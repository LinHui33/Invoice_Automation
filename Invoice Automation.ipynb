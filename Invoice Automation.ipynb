{
 "cells": [
  {
   "cell_type": "code",
   "execution_count": 28,
   "id": "63cfc237",
   "metadata": {},
   "outputs": [],
   "source": [
    "from flask import Flask, render_template, request , send_file\n",
    "from werkzeug.utils import secure_filename\n",
    "import pandas as pd\n",
    "from docxtpl import DocxTemplate\n",
    "import datetime as dt\n",
    "import json"
   ]
  },
  {
   "cell_type": "code",
   "execution_count": 32,
   "id": "598525ff",
   "metadata": {},
   "outputs": [],
   "source": [
    "app = Flask(__name__)\n",
    "@app.route('/', methods=['GET', 'POST'])\n",
    "def invoice():\n",
    "    if request.method == 'POST':\n",
    "        file = request.files['file']\n",
    "        filename = secure_filename(file.filename)\n",
    "        file.save(\"static/\" + filename)\n",
    "        df = pd.read_excel(\"static/\" + filename)\n",
    "        \n",
    "        cusList = [x for x in df.Source.unique() if str(x) != 'nan']\n",
    "        invoiceList = []\n",
    "        for i in cusList:\n",
    "            df1 = df.loc[df['Source'] == i]\n",
    "            df2 = df1[[\"Student's_Name\", 'Subject','Hourly_Rate_MM','Hourly_Rate_parents','Total_Lesson_fee_parents','Total_lesson_fee_MM','Others']]\n",
    "            df3 = df2[df2[\"Student's_Name\"].notna()]\n",
    "            df4 = df3.loc[df3['Total_Lesson_fee_parents']!=0]\n",
    "            df4.columns = ['sName', 'service', 'aRate', 'pRate','pAmt','aAmt','other']\n",
    "\n",
    "            #define Customer\n",
    "            cusName = i\n",
    "            invoice_num = cusName+dt.datetime.now().strftime(\"%Y%b\")\n",
    "\n",
    "            # create a document object\n",
    "            doc = DocxTemplate(\"static/\" +\"InvoiceTemplate.docx\")\n",
    "\n",
    "            # create context dictionary\n",
    "            context = {\n",
    "                \"date\": dt.datetime.now().strftime(\"%d-%b-%Y\"),\n",
    "                \"bill_to\": cusName,\n",
    "                \"invoice_num\": invoice_num\n",
    "            }\n",
    "            result = df4.to_json(orient=\"records\")\n",
    "            parsed = json.loads(result) \n",
    "\n",
    "            context['content'] = parsed\n",
    "            context['pTotal'] = df4.pAmt.sum()+df4.other.sum()\n",
    "            context['aTotal'] = df4.aAmt.sum()\n",
    "            # render context into the document object\n",
    "            doc.render(context)\n",
    "            doc.save(f'static/{invoice_num}.docx')\n",
    "            invoiceList.append(f'{invoice_num}.docx')\n",
    "            \n",
    "        return(render_template(\"download.html\", result=invoiceList))\n",
    "    else:\n",
    "        return(render_template(\"index.html\", result=\"pending\"))\n",
    "    \n",
    "    \n",
    "@app.route('/download', methods=['GET', 'POST'])\n",
    "def download():\n",
    "    if request.method == 'POST':\n",
    "        invoiceName = request.form.get(\"invoice\")\n",
    "        return send_file(f'static/{invoiceName}', as_attachment=True)\n",
    "        "
   ]
  },
  {
   "cell_type": "code",
   "execution_count": 33,
   "id": "032cfb37",
   "metadata": {},
   "outputs": [
    {
     "name": "stdout",
     "output_type": "stream",
     "text": [
      " * Serving Flask app '__main__' (lazy loading)\n",
      " * Environment: production\n",
      "\u001b[31m   WARNING: This is a development server. Do not use it in a production deployment.\u001b[0m\n",
      "\u001b[2m   Use a production WSGI server instead.\u001b[0m\n",
      " * Debug mode: off\n"
     ]
    },
    {
     "name": "stderr",
     "output_type": "stream",
     "text": [
      " * Running on http://127.0.0.1:5000/ (Press CTRL+C to quit)\n",
      "127.0.0.1 - - [15/Jun/2022 17:03:09] \"GET / HTTP/1.1\" 200 -\n",
      "127.0.0.1 - - [15/Jun/2022 17:03:14] \"POST / HTTP/1.1\" 200 -\n"
     ]
    }
   ],
   "source": [
    "if __name__ == \"__main__\":\n",
    "    app.run()"
   ]
  },
  {
   "cell_type": "code",
   "execution_count": null,
   "id": "7978b89d",
   "metadata": {},
   "outputs": [],
   "source": []
  }
 ],
 "metadata": {
  "kernelspec": {
   "display_name": "Python 3 (ipykernel)",
   "language": "python",
   "name": "python3"
  },
  "language_info": {
   "codemirror_mode": {
    "name": "ipython",
    "version": 3
   },
   "file_extension": ".py",
   "mimetype": "text/x-python",
   "name": "python",
   "nbconvert_exporter": "python",
   "pygments_lexer": "ipython3",
   "version": "3.9.7"
  }
 },
 "nbformat": 4,
 "nbformat_minor": 5
}
